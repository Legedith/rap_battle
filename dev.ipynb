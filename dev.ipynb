{
 "cells": [
  {
   "cell_type": "code",
   "execution_count": 2,
   "metadata": {},
   "outputs": [],
   "source": [
    "from ponicode_rapper import Rapper\n",
    "# Create the artistic dir. Please upload your data here if you want the model to make rhymes: Slow training\n",
    "!mkdir artistic\n",
    "# Create the freestyle dir. Please upload your data here if you want the model to make freestyle: Fast training\n",
    "!mkdir freestyle"
   ]
  },
  {
   "cell_type": "markdown",
   "metadata": {},
   "source": [
    "## Initialize Rapper"
   ]
  },
  {
   "cell_type": "code",
   "execution_count": 2,
   "metadata": {},
   "outputs": [],
   "source": [
    "Ponicode_Rapper = Rapper()"
   ]
  },
  {
   "cell_type": "markdown",
   "metadata": {},
   "source": [
    "# Train artistic mod"
   ]
  },
  {
   "cell_type": "code",
   "execution_count": 8,
   "metadata": {},
   "outputs": [],
   "source": [
    "lyrics_data = Ponicode_Rapper.load_data('artistic/data')\n",
    "sentences_number = 5000\n",
    "state_size = 3\n",
    "mod = 'artistic'\n",
    "Ponicode_Rapper.train(lyrics_data, sentences_number, state_size, mod)"
   ]
  },
  {
   "cell_type": "markdown",
   "metadata": {},
   "source": [
    "# Train freestyle mod"
   ]
  },
  {
   "cell_type": "code",
   "execution_count": 9,
   "metadata": {},
   "outputs": [],
   "source": [
    "lyrics_data = Ponicode_Rapper.load_data('freestyle/data')\n",
    "sentences_number = 5000\n",
    "state_size = 4\n",
    "mod = 'freestyle'\n",
    "Ponicode_Rapper.train(lyrics_data, sentences_number, state_size, mod)"
   ]
  },
  {
   "cell_type": "markdown",
   "metadata": {},
   "source": [
    "## Save Ponicode Model"
   ]
  },
  {
   "cell_type": "code",
   "execution_count": 30,
   "metadata": {},
   "outputs": [],
   "source": [
    "save_path = 'model/Ponicode_Rapper.pkl'\n",
    "Ponicode_Rapper.save_model(save_path)"
   ]
  },
  {
   "cell_type": "markdown",
   "metadata": {},
   "source": [
    "## Load model Ponicode Model"
   ]
  },
  {
   "cell_type": "code",
   "execution_count": 3,
   "metadata": {},
   "outputs": [],
   "source": [
    "load_path = 'model/Ponicode_Rapper.pkl'\n",
    "Ponicode_Rapper.load_model(load_path)"
   ]
  },
  {
   "cell_type": "markdown",
   "metadata": {},
   "source": [
    "## Lyrics Battle"
   ]
  },
  {
   "cell_type": "code",
   "execution_count": 5,
   "metadata": {},
   "outputs": [],
   "source": [
    "NVERSES = 4\n",
    "print(Ponicode_Rapper.generate_artistic_verses(NVERSES))"
   ]
  },
  {
   "cell_type": "code",
   "execution_count": 6,
   "metadata": {},
   "outputs": [],
   "source": [
    "NVERSES = 8\n",
    "print(Ponicode_Rapper.generate_freestyle_verses(NVERSES))"
   ]
  },
  {
   "cell_type": "code",
   "execution_count": null,
   "metadata": {},
   "outputs": [],
   "source": []
  }
 ],
 "metadata": {
  "kernelspec": {
   "display_name": "Python 3",
   "language": "python",
   "name": "python3"
  },
  "language_info": {
   "codemirror_mode": {
    "name": "ipython",
    "version": 3
   },
   "file_extension": ".py",
   "mimetype": "text/x-python",
   "name": "python",
   "nbconvert_exporter": "python",
   "pygments_lexer": "ipython3",
   "version": "3.7.6"
  }
 },
 "nbformat": 4,
 "nbformat_minor": 4
}
