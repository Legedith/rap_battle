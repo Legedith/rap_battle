{
  "nbformat": 4,
  "nbformat_minor": 0,
  "metadata": {
    "kernelspec": {
      "display_name": "Python 3",
      "language": "python",
      "name": "python3"
    },
    "language_info": {
      "codemirror_mode": {
        "name": "ipython",
        "version": 3
      },
      "file_extension": ".py",
      "mimetype": "text/x-python",
      "name": "python",
      "nbconvert_exporter": "python",
      "pygments_lexer": "ipython3",
      "version": "3.7.6"
    },
    "colab": {
      "name": "dev.ipynb",
      "provenance": [],
      "toc_visible": true
    }
  },
  "cells": [
    {
      "cell_type": "code",
      "metadata": {
        "id": "_KZSA6kwm63X",
        "colab_type": "code",
        "colab": {
          "base_uri": "https://localhost:8080/",
          "height": 51
        },
        "outputId": "f50909d9-9c33-4148-bef9-2f1be26ba4bd"
      },
      "source": [
        "!pip install markovify"
      ],
      "execution_count": 5,
      "outputs": [
        {
          "output_type": "stream",
          "text": [
            "Requirement already satisfied: markovify in /usr/local/lib/python3.6/dist-packages (0.8.0)\n",
            "Requirement already satisfied: unidecode in /usr/local/lib/python3.6/dist-packages (from markovify) (1.1.1)\n"
          ],
          "name": "stdout"
        }
      ]
    },
    {
      "cell_type": "code",
      "metadata": {
        "id": "QxkxHkrKnQaG",
        "colab_type": "code",
        "colab": {
          "base_uri": "https://localhost:8080/",
          "height": 68
        },
        "outputId": "195a0ee1-8460-4b46-a806-ab142d61e62d"
      },
      "source": [
        "import nltk\n",
        "nltk.download('cmudict')"
      ],
      "execution_count": 9,
      "outputs": [
        {
          "output_type": "stream",
          "text": [
            "[nltk_data] Downloading package cmudict to /root/nltk_data...\n",
            "[nltk_data]   Package cmudict is already up-to-date!\n"
          ],
          "name": "stdout"
        },
        {
          "output_type": "execute_result",
          "data": {
            "text/plain": [
              "True"
            ]
          },
          "metadata": {
            "tags": []
          },
          "execution_count": 9
        }
      ]
    },
    {
      "cell_type": "code",
      "metadata": {
        "id": "n2CI6LlKmYQd",
        "colab_type": "code",
        "colab": {
          "base_uri": "https://localhost:8080/",
          "height": 51
        },
        "outputId": "dfc8d7dc-99ad-4103-bcda-b2ed4660f137"
      },
      "source": [
        "from ponicode_rapper import Rapper\n",
        "# Create the artistic dir. Please upload your data here if you want the model to make rhymes: Slow training\n",
        "!mkdir artistic\n",
        "# Create the freestyle dir. Please upload your data here if you want the model to make freestyle: Fast training\n",
        "!mkdir freestyle"
      ],
      "execution_count": 11,
      "outputs": [
        {
          "output_type": "stream",
          "text": [
            "mkdir: cannot create directory ‘artistic’: File exists\n",
            "mkdir: cannot create directory ‘freestyle’: File exists\n"
          ],
          "name": "stdout"
        }
      ]
    },
    {
      "cell_type": "markdown",
      "metadata": {
        "id": "cglm9DUemYQs",
        "colab_type": "text"
      },
      "source": [
        "## Initialize Rapper"
      ]
    },
    {
      "cell_type": "code",
      "metadata": {
        "id": "k4bCOTUfmYQv",
        "colab_type": "code",
        "colab": {}
      },
      "source": [
        "Ponicode_Rapper = Rapper()"
      ],
      "execution_count": 0,
      "outputs": []
    },
    {
      "cell_type": "markdown",
      "metadata": {
        "id": "SbXa-JOqmYQ5",
        "colab_type": "text"
      },
      "source": [
        "# Train artistic mod"
      ]
    },
    {
      "cell_type": "code",
      "metadata": {
        "id": "YuuQEPVJmYQ8",
        "colab_type": "code",
        "colab": {}
      },
      "source": [
        "lyrics_data = Ponicode_Rapper.load_data('artistic/data')\n",
        "sentences_number = 5000\n",
        "state_size = 3\n",
        "mod = 'artistic'\n",
        "Ponicode_Rapper.train(lyrics_data, sentences_number, state_size, mod)"
      ],
      "execution_count": 0,
      "outputs": []
    },
    {
      "cell_type": "markdown",
      "metadata": {
        "id": "HFN2cmqZmYRK",
        "colab_type": "text"
      },
      "source": [
        "# Train freestyle mod"
      ]
    },
    {
      "cell_type": "code",
      "metadata": {
        "id": "fKjje-FFmYRM",
        "colab_type": "code",
        "colab": {}
      },
      "source": [
        "lyrics_data = Ponicode_Rapper.load_data('freestyle/data')\n",
        "sentences_number = 5000\n",
        "state_size = 4\n",
        "mod = 'freestyle'\n",
        "Ponicode_Rapper.train(lyrics_data, sentences_number, state_size, mod)"
      ],
      "execution_count": 0,
      "outputs": []
    },
    {
      "cell_type": "markdown",
      "metadata": {
        "id": "gIovupWWmYRV",
        "colab_type": "text"
      },
      "source": [
        "## Save Ponicode Model"
      ]
    },
    {
      "cell_type": "code",
      "metadata": {
        "id": "sApF3HqamYRW",
        "colab_type": "code",
        "colab": {}
      },
      "source": [
        "save_path = 'model/Ponicode_Rapper.pkl'\n",
        "Ponicode_Rapper.save_model(save_path)"
      ],
      "execution_count": 0,
      "outputs": []
    },
    {
      "cell_type": "markdown",
      "metadata": {
        "id": "qalPIf8zmYRc",
        "colab_type": "text"
      },
      "source": [
        "## Load model Ponicode Model"
      ]
    },
    {
      "cell_type": "code",
      "metadata": {
        "id": "A0IMVTQ_mYRd",
        "colab_type": "code",
        "colab": {}
      },
      "source": [
        "load_path = 'model/Ponicode_Rapper.pkl'\n",
        "Ponicode_Rapper.load_model(load_path)"
      ],
      "execution_count": 0,
      "outputs": []
    },
    {
      "cell_type": "markdown",
      "metadata": {
        "id": "WaszcV3OmYRk",
        "colab_type": "text"
      },
      "source": [
        "## Lyrics Battle"
      ]
    },
    {
      "cell_type": "code",
      "metadata": {
        "id": "aHJgnY3jmYRl",
        "colab_type": "code",
        "colab": {}
      },
      "source": [
        "NVERSES = 4\n",
        "print(Ponicode_Rapper.generate_artistic_verses(NVERSES))"
      ],
      "execution_count": 0,
      "outputs": []
    },
    {
      "cell_type": "code",
      "metadata": {
        "id": "2h7MXD4pmYRr",
        "colab_type": "code",
        "colab": {}
      },
      "source": [
        "NVERSES = 8\n",
        "print(Ponicode_Rapper.generate_freestyle_verses(NVERSES))"
      ],
      "execution_count": 0,
      "outputs": []
    },
    {
      "cell_type": "code",
      "metadata": {
        "id": "Xhm4aawDmYRw",
        "colab_type": "code",
        "colab": {}
      },
      "source": [
        ""
      ],
      "execution_count": 0,
      "outputs": []
    }
  ]
}