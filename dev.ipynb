{
  "nbformat": 4,
  "nbformat_minor": 0,
  "metadata": {
    "kernelspec": {
      "display_name": "Python 3",
      "language": "python",
      "name": "python3"
    },
    "language_info": {
      "codemirror_mode": {
        "name": "ipython",
        "version": 3
      },
      "file_extension": ".py",
      "mimetype": "text/x-python",
      "name": "python",
      "nbconvert_exporter": "python",
      "pygments_lexer": "ipython3",
      "version": "3.7.6"
    },
    "colab": {
      "name": "dev.ipynb",
      "provenance": [],
      "toc_visible": true
    }
  },
  "cells": [
    {
      "cell_type": "code",
      "metadata": {
        "id": "_KZSA6kwm63X",
        "colab_type": "code",
        "colab": {
          "base_uri": "https://localhost:8080/",
          "height": 153
        },
        "outputId": "c4b11707-51ff-4866-e72f-94dfef351ecb"
      },
      "source": [
        "!git clone https://github.com/ponicode/rap_battle\n",
        "!pip install markovify"
      ],
      "execution_count": 12,
      "outputs": [
        {
          "output_type": "stream",
          "text": [
            "Cloning into 'rap_battle'...\n",
            "remote: Enumerating objects: 39, done.\u001b[K\n",
            "remote: Counting objects:   2% (1/39)\u001b[K\rremote: Counting objects:   5% (2/39)\u001b[K\rremote: Counting objects:   7% (3/39)\u001b[K\rremote: Counting objects:  10% (4/39)\u001b[K\rremote: Counting objects:  12% (5/39)\u001b[K\rremote: Counting objects:  15% (6/39)\u001b[K\rremote: Counting objects:  17% (7/39)\u001b[K\rremote: Counting objects:  20% (8/39)\u001b[K\rremote: Counting objects:  23% (9/39)\u001b[K\rremote: Counting objects:  25% (10/39)\u001b[K\rremote: Counting objects:  28% (11/39)\u001b[K\rremote: Counting objects:  30% (12/39)\u001b[K\rremote: Counting objects:  33% (13/39)\u001b[K\rremote: Counting objects:  35% (14/39)\u001b[K\rremote: Counting objects:  38% (15/39)\u001b[K\rremote: Counting objects:  41% (16/39)\u001b[K\rremote: Counting objects:  43% (17/39)\u001b[K\rremote: Counting objects:  46% (18/39)\u001b[K\rremote: Counting objects:  48% (19/39)\u001b[K\rremote: Counting objects:  51% (20/39)\u001b[K\rremote: Counting objects:  53% (21/39)\u001b[K\rremote: Counting objects:  56% (22/39)\u001b[K\rremote: Counting objects:  58% (23/39)\u001b[K\rremote: Counting objects:  61% (24/39)\u001b[K\rremote: Counting objects:  64% (25/39)\u001b[K\rremote: Counting objects:  66% (26/39)\u001b[K\rremote: Counting objects:  69% (27/39)\u001b[K\rremote: Counting objects:  71% (28/39)\u001b[K\rremote: Counting objects:  74% (29/39)\u001b[K\rremote: Counting objects:  76% (30/39)\u001b[K\rremote: Counting objects:  79% (31/39)\u001b[K\rremote: Counting objects:  82% (32/39)\u001b[K\rremote: Counting objects:  84% (33/39)\u001b[K\rremote: Counting objects:  87% (34/39)\u001b[K\rremote: Counting objects:  89% (35/39)\u001b[K\rremote: Counting objects:  92% (36/39)\u001b[K\rremote: Counting objects:  94% (37/39)\u001b[K\rremote: Counting objects:  97% (38/39)\u001b[K\rremote: Counting objects: 100% (39/39)\u001b[K\rremote: Counting objects: 100% (39/39), done.\u001b[K\n",
            "remote: Compressing objects: 100% (25/25), done.\u001b[K\n",
            "remote: Total 39 (delta 15), reused 30 (delta 9), pack-reused 0\u001b[K\n",
            "Unpacking objects: 100% (39/39), done.\n",
            "Requirement already satisfied: markovify in /usr/local/lib/python3.6/dist-packages (0.8.0)\n",
            "Requirement already satisfied: unidecode in /usr/local/lib/python3.6/dist-packages (from markovify) (1.1.1)\n"
          ],
          "name": "stdout"
        }
      ]
    },
    {
      "cell_type": "code",
      "metadata": {
        "id": "rFU-QSDyokdb",
        "colab_type": "code",
        "colab": {
          "base_uri": "https://localhost:8080/",
          "height": 51
        },
        "outputId": "f6d74c35-9004-4275-b9bc-fff825b35f43"
      },
      "source": [
        "cd rap_battle"
      ],
      "execution_count": 14,
      "outputs": [
        {
          "output_type": "stream",
          "text": [
            "[Errno 2] No such file or directory: 'rap_battle'\n",
            "/content/rap_battle\n"
          ],
          "name": "stdout"
        }
      ]
    },
    {
      "cell_type": "code",
      "metadata": {
        "id": "QxkxHkrKnQaG",
        "colab_type": "code",
        "colab": {
          "base_uri": "https://localhost:8080/",
          "height": 102
        },
        "outputId": "5a0f7c0b-151e-4e14-9d0c-1a179a808dd3"
      },
      "source": [
        "import nltk\n",
        "nltk.download('cmudict')\n",
        "nltk.download('punkt')"
      ],
      "execution_count": 15,
      "outputs": [
        {
          "output_type": "stream",
          "text": [
            "[nltk_data] Downloading package cmudict to /root/nltk_data...\n",
            "[nltk_data]   Package cmudict is already up-to-date!\n",
            "[nltk_data] Downloading package punkt to /root/nltk_data...\n",
            "[nltk_data]   Unzipping tokenizers/punkt.zip.\n"
          ],
          "name": "stdout"
        },
        {
          "output_type": "execute_result",
          "data": {
            "text/plain": [
              "True"
            ]
          },
          "metadata": {
            "tags": []
          },
          "execution_count": 15
        }
      ]
    },
    {
      "cell_type": "code",
      "metadata": {
        "id": "n2CI6LlKmYQd",
        "colab_type": "code",
        "colab": {
          "base_uri": "https://localhost:8080/",
          "height": 51
        },
        "outputId": "f7b813f5-2bbe-4f0d-ee08-9d20c4251ba0"
      },
      "source": [
        "from ponicode_rapper import Rapper\n",
        "# Create the artistic dir. Please upload your data here if you want the model to make rhymes: Slow training\n",
        "!mkdir artistic\n",
        "!mkdir -p artistic/data\n",
        "# Create the freestyle dir. Please upload your data here if you want the model to make freestyle: Fast training\n",
        "!mkdir freestyle\n",
        "!mkdir -p freestyle/data"
      ],
      "execution_count": 17,
      "outputs": [
        {
          "output_type": "stream",
          "text": [
            "mkdir: cannot create directory ‘artistic’: File exists\n",
            "mkdir: cannot create directory ‘freestyle’: File exists\n"
          ],
          "name": "stdout"
        }
      ]
    },
    {
      "cell_type": "markdown",
      "metadata": {
        "id": "cglm9DUemYQs",
        "colab_type": "text"
      },
      "source": [
        "## Initialize Rapper"
      ]
    },
    {
      "cell_type": "code",
      "metadata": {
        "id": "k4bCOTUfmYQv",
        "colab_type": "code",
        "colab": {}
      },
      "source": [
        "Ponicode_Rapper = Rapper()"
      ],
      "execution_count": 0,
      "outputs": []
    },
    {
      "cell_type": "markdown",
      "metadata": {
        "id": "SbXa-JOqmYQ5",
        "colab_type": "text"
      },
      "source": [
        "# Train artistic mod"
      ]
    },
    {
      "cell_type": "code",
      "metadata": {
        "id": "YuuQEPVJmYQ8",
        "colab_type": "code",
        "colab": {
          "base_uri": "https://localhost:8080/",
          "height": 68
        },
        "outputId": "08e7a8e5-0cba-45af-8409-32aa404102c3"
      },
      "source": [
        "lyrics_data = Ponicode_Rapper.load_data('artistic/data')\n",
        "sentences_number = 5000\n",
        "state_size = 3\n",
        "mod = 'artistic'\n",
        "Ponicode_Rapper.train(lyrics_data, sentences_number, state_size, mod)"
      ],
      "execution_count": 0,
      "outputs": [
        {
          "output_type": "stream",
          "text": [
            "Generating a space of 5000 sentences\n",
            "Grouping the sentences by rhymes\n"
          ],
          "name": "stdout"
        },
        {
          "output_type": "stream",
          "text": [
            "353it [07:13,  1.27s/it]"
          ],
          "name": "stderr"
        }
      ]
    },
    {
      "cell_type": "markdown",
      "metadata": {
        "id": "HFN2cmqZmYRK",
        "colab_type": "text"
      },
      "source": [
        "# Train freestyle mod"
      ]
    },
    {
      "cell_type": "code",
      "metadata": {
        "id": "fKjje-FFmYRM",
        "colab_type": "code",
        "colab": {}
      },
      "source": [
        "lyrics_data = Ponicode_Rapper.load_data('freestyle/data')\n",
        "sentences_number = 5000\n",
        "state_size = 4\n",
        "mod = 'freestyle'\n",
        "Ponicode_Rapper.train(lyrics_data, sentences_number, state_size, mod)"
      ],
      "execution_count": 0,
      "outputs": []
    },
    {
      "cell_type": "markdown",
      "metadata": {
        "id": "gIovupWWmYRV",
        "colab_type": "text"
      },
      "source": [
        "## Save Ponicode Model"
      ]
    },
    {
      "cell_type": "code",
      "metadata": {
        "id": "sApF3HqamYRW",
        "colab_type": "code",
        "colab": {}
      },
      "source": [
        "save_path = 'model/Ponicode_Rapper.pkl'\n",
        "Ponicode_Rapper.save_model(save_path)"
      ],
      "execution_count": 0,
      "outputs": []
    },
    {
      "cell_type": "markdown",
      "metadata": {
        "id": "qalPIf8zmYRc",
        "colab_type": "text"
      },
      "source": [
        "## Load model Ponicode Model"
      ]
    },
    {
      "cell_type": "code",
      "metadata": {
        "id": "A0IMVTQ_mYRd",
        "colab_type": "code",
        "colab": {}
      },
      "source": [
        "load_path = 'model/Ponicode_Rapper.pkl'\n",
        "Ponicode_Rapper.load_model(load_path)"
      ],
      "execution_count": 0,
      "outputs": []
    },
    {
      "cell_type": "markdown",
      "metadata": {
        "id": "WaszcV3OmYRk",
        "colab_type": "text"
      },
      "source": [
        "## Lyrics Battle"
      ]
    },
    {
      "cell_type": "code",
      "metadata": {
        "id": "aHJgnY3jmYRl",
        "colab_type": "code",
        "colab": {
          "base_uri": "https://localhost:8080/",
          "height": 374
        },
        "outputId": "eb2d345b-f94a-4f13-bc8a-5d36c24513eb"
      },
      "source": [
        "NVERSES = 4\n",
        "print(Ponicode_Rapper.generate_artistic_verses(NVERSES))"
      ],
      "execution_count": 21,
      "outputs": [
        {
          "output_type": "stream",
          "text": [
            "Rivers arise; whether thou to thy Sons another Troy shall rise,\n",
            "Sam. But what more oft the exercise\n",
            "With need, and sad occasion dear,\n",
            "My trust is in thy pale career,\n",
            "\n",
            "With need, and sad occasion dear,\n",
            "My trust is in thy pale career,\n",
            "Thee Chauntress oft the exercise\n",
            "And we should expect mee, we do hope to find out all your quaint enameld eyes,\n",
            "\n",
            "Inferr, as if I may fetch thee\n",
            "Himself to sing, and they as gladly yield me\n",
            "Sam. But what more oft the exercise\n",
            "Rivers arise; whether thou to thy Sons another Troy shall rise,\n",
            "\n",
            "Himself to sing, and they as gladly yield me\n",
            "Inferr, as if I may fetch thee\n",
            "My trust is in thy pale career,\n",
            "With need, and sad occasion dear,\n",
            "\n",
            "\n"
          ],
          "name": "stdout"
        }
      ]
    },
    {
      "cell_type": "code",
      "metadata": {
        "id": "2h7MXD4pmYRr",
        "colab_type": "code",
        "colab": {
          "base_uri": "https://localhost:8080/",
          "height": 714
        },
        "outputId": "fabe1f0c-0ac3-451a-92d6-6adf8a6c3792"
      },
      "source": [
        "NVERSES = 8\n",
        "print(Ponicode_Rapper.generate_freestyle_verses(NVERSES))"
      ],
      "execution_count": 22,
      "outputs": [
        {
          "output_type": "stream",
          "text": [
            "So near related, or the draff of servil food\n",
            "Goddess of Shades, and Huntress, who at will through every pore?\n",
            "The sampler, and to the dismal pit\n",
            "Great Pomp, and Games;\n",
            "\n",
            "Relieves me from his complaint,\n",
            "Vertue, as I know, is the place of the Text,\n",
            "And we should expect mee, we do hope to find out all your quaint enameld eyes,\n",
            "To fight with thee no man therein Doctor but himself.\n",
            "\n",
            "Of the Paradise Lost, from the Lord;\n",
            "save this onely man that now in\n",
            "I sate me down to the Lords\n",
            "Sam. But what more oft the exercise\n",
            "\n",
            "Chor: Thy hopes are not far off.\n",
            "Who tore the Skie.\n",
            "Who in the appendix for the trespbass or omission,\n",
            "At sight of this tall Wood. 270\n",
            "\n",
            "Through all Philistian bounds. To Israel and now in all rightfull devotion to those ychain'd in sleep,\n",
            "Unarm'd, and with state thou hast made\n",
            "Successour in thy righteousness\n",
            "With goodness principl'd not to see of whom thou\n",
            "\n",
            "Like stubble from the East, and leads with her golden rod,\n",
            "But let them be, 60\n",
            "With need, and sad occasion dear,\n",
            "Which long shall not stand in need of nothing,\n",
            "\n",
            "Chor: In seeking just occasion to infest our Foes.\n",
            "But O as to my righteousness\n",
            "Sparkling; out-pow'rd, the flavor, or the draff of servil food\n",
            "Were in the interval been\n",
            "\n",
            "Grow up and perish, as the April buds in Primrose-season.\n",
            "And that he can give, to me thy face from me, for the piety\n",
            "Creep and intrude, and climb into the World, and conquer Nations bold.\n",
            "My Brothers when they roar,\n",
            "\n",
            "\n"
          ],
          "name": "stdout"
        }
      ]
    },
    {
      "cell_type": "code",
      "metadata": {
        "id": "Xhm4aawDmYRw",
        "colab_type": "code",
        "colab": {}
      },
      "source": [
        ""
      ],
      "execution_count": 0,
      "outputs": []
    }
  ]
}